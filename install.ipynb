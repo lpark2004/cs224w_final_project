{
 "cells": [
  {
   "cell_type": "code",
   "execution_count": null,
   "metadata": {},
   "outputs": [],
   "source": [
    "# Install torch geometric\n",
    "import os\n",
    "import torch\n",
    "if 'IS_GRADESCOPE_ENV' not in os.environ:\n",
    "  torch_version = str(torch.__version__)\n",
    "  scatter_src = f\"https://pytorch-geometric.com/whl/torch-{torch_version}.html\"\n",
    "  sparse_src = f\"https://pytorch-geometric.com/whl/torch-{torch_version}.html\"\n",
    "  !pip install torch-scatter -f $scatter_src\n",
    "  !pip install torch-sparse -f $sparse_src\n",
    "  !pip install torch-geometric\n",
    "  !pip install -q git+https://github.com/snap-stanford/deepsnap.git\n",
    "  !pip install -U -q PyDrive"
   ]
  },
  {
   "cell_type": "code",
   "execution_count": null,
   "metadata": {},
   "outputs": [],
   "source": [
    "scatter_src = f\"https://pytorch-geometric.com/whl/torch-2.2.1+cu121.html\"\n",
    "  sparse_src = f\"https://pytorch-geometric.com/whl/torch-2.2.1+cu121.html\"\n",
    "  !pip install torch-scatter -f https://pytorch-geometric.com/whl/torch-2.2.1+cu121.html\n",
    "  !pip install torch-sparse -f https://pytorch-geometric.com/whl/torch-2.2.1+cu121.html\n",
    "  !pip install torch-geometric\n",
    "  !pip install -q git+https://github.com/snap-stanford/deepsnap.git\n",
    "  !pip install -U -q PyDrive"
   ]
  }
 ],
 "metadata": {
  "language_info": {
   "name": "python"
  }
 },
 "nbformat": 4,
 "nbformat_minor": 2
}
